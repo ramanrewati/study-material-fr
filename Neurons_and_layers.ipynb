{
  "nbformat": 4,
  "nbformat_minor": 0,
  "metadata": {
    "colab": {
      "provenance": []
    },
    "kernelspec": {
      "name": "python3",
      "display_name": "Python 3"
    },
    "language_info": {
      "name": "python"
    }
  },
  "cells": [
    {
      "cell_type": "markdown",
      "source": [
        "### **Importing essentials**"
      ],
      "metadata": {
        "id": "6qurXDYr9P88"
      }
    },
    {
      "cell_type": "code",
      "execution_count": null,
      "metadata": {
        "id": "o0zXJD4Sc54E"
      },
      "outputs": [],
      "source": [
        "import numpy as np\n",
        "import matplotlib.pyplot as plt\n",
        "import tensorflow as tf\n",
        "from tensorflow.keras.layers import Dense\n",
        "from tensorflow.keras import Sequential\n",
        "from tensorflow.keras.activations import sigmoid\n",
        "\n",
        "import logging\n",
        "logging.getLogger(\"tensorflow\").setLevel(logging.ERROR)\n",
        "tf.autograph.set_verbosity(0)"
      ]
    },
    {
      "cell_type": "markdown",
      "source": [
        "## Neuron without activation - Regression/Linear **Model**"
      ],
      "metadata": {
        "id": "6J1ZFErR9fd5"
      }
    },
    {
      "cell_type": "markdown",
      "source": [
        "### Dataset"
      ],
      "metadata": {
        "id": "HwIN3rUGBnkI"
      }
    },
    {
      "cell_type": "code",
      "source": [
        "### DataSet\n",
        "X_train = np.array([[1.0], [2.0]], dtype=np.float32)  # (size in 1000 square feet)\n",
        "Y_train = np.array([[300.0], [500.0]], dtype=np.float32)  # (price in 1000s of dollars)\n",
        "\n",
        "fig, ax = plt.subplots(1, 1)\n",
        "ax.scatter(X_train, Y_train, marker='x', c='r', label=\"Data Points\")\n",
        "ax.legend(fontsize='xx-large')\n",
        "ax.set_ylabel('Price (in 1000s of dollars)', fontsize='xx-large')\n",
        "ax.set_xlabel('Size (1000 sqft)', fontsize='xx-large')\n",
        "plt.show()\n"
      ],
      "metadata": {
        "id": "Spn_GjjR9oLL"
      },
      "execution_count": null,
      "outputs": []
    },
    {
      "cell_type": "markdown",
      "source": [
        "\n",
        "# Regression/Linear Model"
      ],
      "metadata": {
        "id": "tx9L6io3Byi_"
      }
    },
    {
      "cell_type": "code",
      "source": [
        "linear_layer = tf.keras.layers.Dense(units=1, activation='linear')"
      ],
      "metadata": {
        "id": "K9IxTEVDBzWj"
      },
      "execution_count": null,
      "outputs": []
    },
    {
      "cell_type": "markdown",
      "source": [
        "# Trigger the instantiation of the weights"
      ],
      "metadata": {
        "id": "vJ-NG_p8B5mz"
      }
    },
    {
      "cell_type": "code",
      "source": [
        "linear_layer.get_weights()\n",
        "a1 = linear_layer(X_train[0].reshape(1, 1))\n",
        "print(a1)\n",
        "\n",
        "w, b = linear_layer.get_weights()\n",
        "print(f\"w = {w}, b = {b}\")"
      ],
      "metadata": {
        "id": "gDar6aJTB8yv"
      },
      "execution_count": null,
      "outputs": []
    },
    {
      "cell_type": "markdown",
      "source": [
        "# Set weights to known values"
      ],
      "metadata": {
        "id": "2aZtcD5JCnaT"
      }
    },
    {
      "cell_type": "code",
      "source": [
        "set_w = np.array([[200]])\n",
        "set_b = np.array([100])\n",
        "linear_layer.set_weights([set_w, set_b])\n",
        "print(linear_layer.get_weights())"
      ],
      "metadata": {
        "id": "q6plXr_KCjwr"
      },
      "execution_count": null,
      "outputs": []
    },
    {
      "cell_type": "markdown",
      "source": [
        "# Compare equation to the layer output"
      ],
      "metadata": {
        "id": "9bm4LUCKC2G8"
      }
    },
    {
      "cell_type": "code",
      "source": [
        "a1 = linear_layer(X_train[0].reshape(1, 1))\n",
        "print(a1)\n",
        "alin = np.dot(set_w, X_train[0].reshape(1, 1)) + set_b\n",
        "print(alin)"
      ],
      "metadata": {
        "id": "HbIrf4RdC5_X"
      },
      "execution_count": null,
      "outputs": []
    },
    {
      "cell_type": "markdown",
      "source": [
        "# Predictions on training data"
      ],
      "metadata": {
        "id": "ZDLLDRKsDM_g"
      }
    },
    {
      "cell_type": "code",
      "source": [
        "prediction_tf = linear_layer(X_train)\n",
        "prediction_np = np.dot(X_train, set_w) + set_b\n",
        "\n",
        "fig, ax = plt.subplots(1, 1)\n",
        "ax.scatter(X_train, Y_train, marker='x', c='r', label=\"Data Points\")\n",
        "ax.plot(X_train, prediction_tf, label='TensorFlow Prediction')\n",
        "ax.plot(X_train, prediction_np, linestyle='dashed', label='NumPy Prediction')\n",
        "ax.legend(fontsize='xx-large')\n",
        "ax.set_ylabel('Price (in 1000s of dollars)', fontsize='xx-large')\n",
        "ax.set_xlabel('Size (1000 sqft)', fontsize='xx-large')\n",
        "plt.show()"
      ],
      "metadata": {
        "id": "pmisdYgHDPq2"
      },
      "execution_count": null,
      "outputs": []
    },
    {
      "cell_type": "markdown",
      "source": [
        "# Neuron with Sigmoid activation"
      ],
      "metadata": {
        "id": "_yEl7mQpDecJ"
      }
    },
    {
      "cell_type": "markdown",
      "source": [
        "### DataSet"
      ],
      "metadata": {
        "id": "e_WZLG_kDhxx"
      }
    },
    {
      "cell_type": "code",
      "source": [
        "X_train = np.array([0., 1, 2, 3, 4, 5], dtype=np.float32).reshape(-1, 1)  # 2-D Matrix\n",
        "Y_train = np.array([0, 0, 0, 1, 1, 1], dtype=np.float32).reshape(-1, 1)  # 2-D Matrix\n",
        "\n",
        "pos = Y_train == 1\n",
        "neg = Y_train == 0\n",
        "\n",
        "fig, ax = plt.subplots(1, 1, figsize=(4, 3))\n",
        "ax.scatter(X_train[pos], Y_train[pos], marker='x', s=80, c='red', label=\"y=1\")\n",
        "ax.scatter(X_train[neg], Y_train[neg], marker='o', s=100, label=\"y=0\", facecolors='none',\n",
        "           edgecolors='b', lw=3)\n",
        "ax.set_ylim(-0.08, 1.1)\n",
        "ax.set_ylabel('y', fontsize=12)\n",
        "ax.set_xlabel('x', fontsize=12)\n",
        "ax.set_title('one variable plot')\n",
        "ax.legend(fontsize=12)\n",
        "plt.show()"
      ],
      "metadata": {
        "id": "1vUa1kFXDsC_"
      },
      "execution_count": null,
      "outputs": []
    },
    {
      "cell_type": "markdown",
      "source": [
        "# Logistic Neuron"
      ],
      "metadata": {
        "id": "uhZUgVaVFdDB"
      }
    },
    {
      "cell_type": "code",
      "source": [
        "model = Sequential([\n",
        "    tf.keras.layers.Dense(1, input_dim=1, activation='sigmoid', name='L1')\n",
        "])\n",
        "model.summary()\n",
        "\n",
        "logistic_layer = model.get_layer('L1')\n",
        "w, b = logistic_layer.get_weights()\n",
        "print(w, b)\n",
        "print(w.shape, b.shape)"
      ],
      "metadata": {
        "id": "L8e2wrL9Fd8i"
      },
      "execution_count": null,
      "outputs": []
    },
    {
      "cell_type": "markdown",
      "source": [
        "\n",
        "# Set weight and bias to known values"
      ],
      "metadata": {
        "id": "vH6DR3ekFnIk"
      }
    },
    {
      "cell_type": "code",
      "source": [
        "set_w = np.array([[2]])\n",
        "set_b = np.array([-4.5])\n",
        "logistic_layer.set_weights([set_w, set_b])\n",
        "print(logistic_layer.get_weights())"
      ],
      "metadata": {
        "id": "zZ9pe2jCFn3L"
      },
      "execution_count": null,
      "outputs": []
    },
    {
      "cell_type": "markdown",
      "source": [
        "\n",
        "# Compare equation to the layer output"
      ],
      "metadata": {
        "id": "UJzNXRLJFsUm"
      }
    },
    {
      "cell_type": "code",
      "source": [
        "a1 = model.predict(X_train[0].reshape(1, 1))\n",
        "print(a1)\n",
        "alog = sigmoid(np.dot(set_w, X_train[0].reshape(1, 1)) + set_b)\n",
        "print(alog)"
      ],
      "metadata": {
        "id": "yfZnsP2CFvlc"
      },
      "execution_count": null,
      "outputs": []
    },
    {
      "cell_type": "markdown",
      "source": [
        "# Predictions on training data"
      ],
      "metadata": {
        "id": "i-gUQJZ_F1dO"
      }
    },
    {
      "cell_type": "code",
      "source": [
        "fig, ax = plt.subplots(1, 1)\n",
        "ax.scatter(X_train[pos], Y_train[pos], marker='x', s=80, c='red', label=\"y=1\")\n",
        "ax.scatter(X_train[neg], Y_train[neg], marker='o', s=100, label=\"y=0\", facecolors='none',\n",
        "           edgecolors='b', lw=3)\n",
        "ax.plot(X_train, model.predict(X_train), label='TensorFlow Prediction')\n",
        "ax.legend(fontsize=12)\n",
        "ax.set_ylim(-0.08, 1.1)\n",
        "ax.set_ylabel('y', fontsize=12)\n",
        "ax.set_xlabel('x', fontsize=12)\n",
        "ax.set_title('Logistic Regression with TensorFlow')\n",
        "plt.show()"
      ],
      "metadata": {
        "id": "79fOTUHtF0o6"
      },
      "execution_count": null,
      "outputs": []
    }
  ]
}